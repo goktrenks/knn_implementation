{
  "nbformat": 4,
  "nbformat_minor": 0,
  "metadata": {
    "colab": {
      "provenance": []
    },
    "kernelspec": {
      "name": "python3",
      "display_name": "Python 3"
    },
    "language_info": {
      "name": "python"
    }
  },
  "cells": [
    {
      "cell_type": "code",
      "source": [
        "import numpy as np\n",
        "import pandas as pd"
      ],
      "metadata": {
        "id": "zrQegE8C9gIi"
      },
      "execution_count": null,
      "outputs": []
    },
    {
      "cell_type": "code",
      "execution_count": null,
      "metadata": {
        "id": "l8VARs4Fg2ql"
      },
      "outputs": [],
      "source": [
        "class knn_classifier:\n",
        "    '''\n",
        "    knn algorithm assuming uniform weights,\n",
        "    brute force algorithm, euclidian distance and\n",
        "    that It's a binary classification problem.\n",
        "\n",
        "    If k is even and there's a tie, we exclude the farthest point\n",
        "    (so k is reduced by 1) and recalculate.\n",
        "    '''\n",
        "    def __init__(self,\n",
        "                 n_neighbors = 5,\n",
        "                 weights = 'uniform'):\n",
        "        self.dataset = None\n",
        "        self.labels = None\n",
        "        self.k = n_neighbors\n",
        "\n",
        "    @staticmethod\n",
        "    def euclidian_distance(point_a:pd.Series, point_b:pd.Series):\n",
        "        return np.linalg.norm(point_a - point_b)\n",
        "\n",
        "    def fit(self,X_train, y_train):\n",
        "        self.dataset = X_train\n",
        "        self.labels = y_train\n",
        "\n",
        "    def decide_predict(self, value_key_list):\n",
        "        count = 0\n",
        "        for elem in value_key_list:\n",
        "            if self.labels.iloc[int(elem[1])] == 1:\n",
        "                count +=1\n",
        "            else:\n",
        "                count -=1\n",
        "\n",
        "        if self.k % 2 == 0 and count == 0: #if k is even and there's a tie, removes the farthest point and tries again\n",
        "            return self.decide_predict(value_key_list[:- 1])\n",
        "\n",
        "        else:\n",
        "            return 1 if count > 0 else 0\n",
        "\n",
        "    def predict(self,X_predict:pd.DataFrame):\n",
        "        '''\n",
        "        For each row in X_predict, we calculate the distance\n",
        "        between the new point and every other point in the dataset\n",
        "        '''\n",
        "        y_pred = []\n",
        "        for i in range(X_predict.shape[0]):  #iterating through the rows of the df to be predicted\n",
        "            distances = {f\"{i}\": np.inf for i in range(self.dataset.shape[0])}#position in train dataset of the closest points so far\n",
        "            for j in range(self.dataset.shape[0]):#iterating through the rows of the train dataset\n",
        "                distances[f\"{j}\"] = self.euclidian_distance(X_predict.iloc[i], self.dataset.iloc[j])\n",
        "\n",
        "            #get a list in the format [(closest_distance1, iloc1), (closest_distance2, iloc2)...]\n",
        "            #get only k elements from this list (which are the k closest points)\n",
        "            value_key_list = sorted([(value, key) for key, value in distances.items()])[:self.k]\n",
        "            y_pred.append(self.decide_predict(value_key_list))\n",
        "\n",
        "\n",
        "        return pd.Series(y_pred)\n",
        "\n",
        "\n",
        "\n"
      ]
    }
  ]
}